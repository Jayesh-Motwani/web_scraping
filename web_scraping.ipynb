{
 "cells": [
  {
   "cell_type": "code",
   "id": "initial_id",
   "metadata": {
    "collapsed": true,
    "ExecuteTime": {
     "end_time": "2025-06-22T20:29:52.219997Z",
     "start_time": "2025-06-22T20:29:52.214726Z"
    }
   },
   "source": [
    "import requests\n",
    "from bs4 import BeautifulSoup as bs"
   ],
   "outputs": [],
   "execution_count": 24
  },
  {
   "metadata": {
    "ExecuteTime": {
     "end_time": "2025-06-22T20:29:52.974422Z",
     "start_time": "2025-06-22T20:29:52.222031Z"
    }
   },
   "cell_type": "code",
   "source": [
    "# loading webpage content\n",
    "response = requests.get(\"https://jayesh-motwani.github.io/web_scraping/\")\n",
    "\n",
    "# convert a beautifulsoup object\n",
    "soup = bs(response.content)\n",
    "\n",
    "# print our html\n",
    "print(soup.prettify())"
   ],
   "id": "d54668614fd3257c",
   "outputs": [
    {
     "name": "stdout",
     "output_type": "stream",
     "text": [
      "<!DOCTYPE html>\n",
      "<html lang=\"en\">\n",
      " <head>\n",
      "  <title>\n",
      "   Jayesh Webpage\n",
      "  </title>\n",
      " </head>\n",
      " <body>\n",
      "  <div align=\"middle\">\n",
      "   <h1>\n",
      "    HTML Webpage\n",
      "   </h1>\n",
      "   <p>\n",
      "    Link to more examples:\n",
      "    <a href=\"https://www.york.ac.uk/teaching/cws/wws/webpage1.html\">\n",
      "     Click here for more examples\n",
      "    </a>\n",
      "   </p>\n",
      "  </div>\n",
      "  <h2>\n",
      "   A Header\n",
      "  </h2>\n",
      "  <p>\n",
      "   <i>\n",
      "    Some Italicised text\n",
      "   </i>\n",
      "  </p>\n",
      "  <h2>\n",
      "   This is so fun\n",
      "  </h2>\n",
      " </body>\n",
      "</html>\n",
      "\n"
     ]
    }
   ],
   "execution_count": 25
  },
  {
   "metadata": {
    "ExecuteTime": {
     "end_time": "2025-06-22T20:29:52.982870Z",
     "start_time": "2025-06-22T20:29:52.976845Z"
    }
   },
   "cell_type": "code",
   "source": "soup.find('h2')",
   "id": "c4c59b46047a9e14",
   "outputs": [
    {
     "data": {
      "text/plain": [
       "<h2>\n",
       "    A Header\n",
       "</h2>"
      ]
     },
     "execution_count": 26,
     "metadata": {},
     "output_type": "execute_result"
    }
   ],
   "execution_count": 26
  },
  {
   "metadata": {
    "ExecuteTime": {
     "end_time": "2025-06-22T20:29:52.995086Z",
     "start_time": "2025-06-22T20:29:52.983883Z"
    }
   },
   "cell_type": "code",
   "source": "soup.find_all([\"h1\",\"h2\"])",
   "id": "b9e7ef2e1d12a7fc",
   "outputs": [
    {
     "data": {
      "text/plain": [
       "[<h1>HTML Webpage</h1>,\n",
       " <h2>\n",
       "     A Header\n",
       " </h2>,\n",
       " <h2>\n",
       "     This is so fun\n",
       " </h2>]"
      ]
     },
     "execution_count": 27,
     "metadata": {},
     "output_type": "execute_result"
    }
   ],
   "execution_count": 27
  },
  {
   "metadata": {
    "ExecuteTime": {
     "end_time": "2025-06-22T20:29:53.000497Z",
     "start_time": "2025-06-22T20:29:52.997101Z"
    }
   },
   "cell_type": "code",
   "source": "soup.find_all('p', attrs={})",
   "id": "8db908623e3a6622",
   "outputs": [],
   "execution_count": 27
  }
 ],
 "metadata": {
  "kernelspec": {
   "display_name": "Python 3",
   "language": "python",
   "name": "python3"
  },
  "language_info": {
   "codemirror_mode": {
    "name": "ipython",
    "version": 2
   },
   "file_extension": ".py",
   "mimetype": "text/x-python",
   "name": "python",
   "nbconvert_exporter": "python",
   "pygments_lexer": "ipython2",
   "version": "2.7.6"
  }
 },
 "nbformat": 4,
 "nbformat_minor": 5
}
