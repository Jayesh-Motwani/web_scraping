{
 "cells": [
  {
   "cell_type": "code",
   "id": "initial_id",
   "metadata": {
    "collapsed": true,
    "ExecuteTime": {
     "end_time": "2025-06-22T20:18:01.790204Z",
     "start_time": "2025-06-22T20:18:01.784228Z"
    }
   },
   "source": [
    "import requests\n",
    "from bs4 import BeautifulSoup as bs"
   ],
   "outputs": [],
   "execution_count": 7
  },
  {
   "metadata": {
    "ExecuteTime": {
     "end_time": "2025-06-22T20:18:02.583790Z",
     "start_time": "2025-06-22T20:18:01.795258Z"
    }
   },
   "cell_type": "code",
   "source": [
    "# loading webpage content\n",
    "response = requests.get(\"https://jayesh-motwani.github.io/web_scraping/\")\n",
    "\n",
    "# convert a beautifulsoup object\n",
    "soup = bs(response.content)\n",
    "\n",
    "# print our html\n",
    "print(soup.prettify())"
   ],
   "id": "d54668614fd3257c",
   "outputs": [
    {
     "name": "stdout",
     "output_type": "stream",
     "text": [
      "<!DOCTYPE html>\n",
      "<html lang=\"en\">\n",
      " <head>\n",
      "  <title>\n",
      "   Title\n",
      "  </title>\n",
      " </head>\n",
      " <body>\n",
      "  <div align=\"middle\">\n",
      "   <h1>\n",
      "    HTML Webpage\n",
      "   </h1>\n",
      "   <p>\n",
      "    Link to more examples:\n",
      "    <a href=\"https://www.york.ac.uk/teaching/cws/wws/webpage1.html\">\n",
      "     Click here for more examples\n",
      "    </a>\n",
      "   </p>\n",
      "  </div>\n",
      "  <h2>\n",
      "   A Header\n",
      "  </h2>\n",
      "  <p>\n",
      "   <i>\n",
      "    Some Italicised text\n",
      "   </i>\n",
      "  </p>\n",
      " </body>\n",
      "</html>\n",
      "\n"
     ]
    }
   ],
   "execution_count": 8
  },
  {
   "metadata": {
    "ExecuteTime": {
     "end_time": "2025-06-22T20:18:02.593524Z",
     "start_time": "2025-06-22T20:18:02.585981Z"
    }
   },
   "cell_type": "code",
   "source": "soup.find(\"title\")",
   "id": "c4c59b46047a9e14",
   "outputs": [
    {
     "data": {
      "text/plain": [
       "<title>Title</title>"
      ]
     },
     "execution_count": 9,
     "metadata": {},
     "output_type": "execute_result"
    }
   ],
   "execution_count": 9
  },
  {
   "metadata": {
    "ExecuteTime": {
     "end_time": "2025-06-22T20:18:02.599672Z",
     "start_time": "2025-06-22T20:18:02.595561Z"
    }
   },
   "cell_type": "code",
   "source": "",
   "id": "2104a12737064264",
   "outputs": [],
   "execution_count": 9
  }
 ],
 "metadata": {
  "kernelspec": {
   "display_name": "Python 3",
   "language": "python",
   "name": "python3"
  },
  "language_info": {
   "codemirror_mode": {
    "name": "ipython",
    "version": 2
   },
   "file_extension": ".py",
   "mimetype": "text/x-python",
   "name": "python",
   "nbconvert_exporter": "python",
   "pygments_lexer": "ipython2",
   "version": "2.7.6"
  }
 },
 "nbformat": 4,
 "nbformat_minor": 5
}
