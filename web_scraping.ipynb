{
 "cells": [
  {
   "cell_type": "code",
   "id": "initial_id",
   "metadata": {
    "collapsed": true,
    "ExecuteTime": {
     "end_time": "2025-06-22T20:43:41.183329Z",
     "start_time": "2025-06-22T20:43:41.180330Z"
    }
   },
   "source": [
    "import requests\n",
    "from bs4 import BeautifulSoup as bs\n",
    "import re"
   ],
   "outputs": [],
   "execution_count": 40
  },
  {
   "metadata": {
    "ExecuteTime": {
     "end_time": "2025-06-22T20:43:41.822400Z",
     "start_time": "2025-06-22T20:43:41.184842Z"
    }
   },
   "cell_type": "code",
   "source": [
    "# loading webpage content\n",
    "response = requests.get(\"https://jayesh-motwani.github.io/web_scraping/\")\n",
    "\n",
    "# convert a beautifulsoup object\n",
    "soup = bs(response.content)\n",
    "\n",
    "# print our html\n",
    "print(soup.prettify())"
   ],
   "id": "d54668614fd3257c",
   "outputs": [
    {
     "name": "stdout",
     "output_type": "stream",
     "text": [
      "<!DOCTYPE html>\n",
      "<html lang=\"en\">\n",
      " <head>\n",
      "  <title>\n",
      "   Jayesh Webpage\n",
      "  </title>\n",
      " </head>\n",
      " <body>\n",
      "  <div align=\"middle\">\n",
      "   <h1>\n",
      "    HTML Webpage\n",
      "   </h1>\n",
      "   <p>\n",
      "    Link to more examples:\n",
      "    <a href=\"https://www.york.ac.uk/teaching/cws/wws/webpage1.html\">\n",
      "     Click here for more examples\n",
      "    </a>\n",
      "   </p>\n",
      "  </div>\n",
      "  <h2>\n",
      "   A Header\n",
      "  </h2>\n",
      "  <p>\n",
      "   <i>\n",
      "    Some Italicised text\n",
      "   </i>\n",
      "  </p>\n",
      "  <h2>\n",
      "   This is so fun\n",
      "  </h2>\n",
      "  <p id=\"2\">\n",
      "   paragraph with an id\n",
      "  </p>\n",
      "  <p id=\"para\">\n",
      "   another paragraph with an id\n",
      "  </p>\n",
      " </body>\n",
      "</html>\n",
      "\n"
     ]
    }
   ],
   "execution_count": 41
  },
  {
   "metadata": {
    "ExecuteTime": {
     "end_time": "2025-06-22T20:43:41.827223Z",
     "start_time": "2025-06-22T20:43:41.822400Z"
    }
   },
   "cell_type": "code",
   "source": "soup.find('h2')",
   "id": "c4c59b46047a9e14",
   "outputs": [
    {
     "data": {
      "text/plain": [
       "<h2>\n",
       "    A Header\n",
       "</h2>"
      ]
     },
     "execution_count": 42,
     "metadata": {},
     "output_type": "execute_result"
    }
   ],
   "execution_count": 42
  },
  {
   "metadata": {
    "ExecuteTime": {
     "end_time": "2025-06-22T20:43:41.834710Z",
     "start_time": "2025-06-22T20:43:41.828229Z"
    }
   },
   "cell_type": "code",
   "source": "soup.find_all([\"h1\",\"h2\"])",
   "id": "b9e7ef2e1d12a7fc",
   "outputs": [
    {
     "data": {
      "text/plain": [
       "[<h1>HTML Webpage</h1>,\n",
       " <h2>\n",
       "     A Header\n",
       " </h2>,\n",
       " <h2>\n",
       "     This is so fun\n",
       " </h2>]"
      ]
     },
     "execution_count": 43,
     "metadata": {},
     "output_type": "execute_result"
    }
   ],
   "execution_count": 43
  },
  {
   "metadata": {
    "ExecuteTime": {
     "end_time": "2025-06-22T20:43:41.841625Z",
     "start_time": "2025-06-22T20:43:41.835719Z"
    }
   },
   "cell_type": "code",
   "source": "soup.find_all('p', attrs={\"id\": 2})",
   "id": "8db908623e3a6622",
   "outputs": [
    {
     "data": {
      "text/plain": [
       "[<p id=\"2\">\n",
       "     paragraph with an id\n",
       " </p>]"
      ]
     },
     "execution_count": 44,
     "metadata": {},
     "output_type": "execute_result"
    }
   ],
   "execution_count": 44
  },
  {
   "metadata": {
    "ExecuteTime": {
     "end_time": "2025-06-22T20:43:41.845756Z",
     "start_time": "2025-06-22T20:43:41.841625Z"
    }
   },
   "cell_type": "code",
   "source": "print(soup.prettify())",
   "id": "3778be165b874c0d",
   "outputs": [
    {
     "name": "stdout",
     "output_type": "stream",
     "text": [
      "<!DOCTYPE html>\n",
      "<html lang=\"en\">\n",
      " <head>\n",
      "  <title>\n",
      "   Jayesh Webpage\n",
      "  </title>\n",
      " </head>\n",
      " <body>\n",
      "  <div align=\"middle\">\n",
      "   <h1>\n",
      "    HTML Webpage\n",
      "   </h1>\n",
      "   <p>\n",
      "    Link to more examples:\n",
      "    <a href=\"https://www.york.ac.uk/teaching/cws/wws/webpage1.html\">\n",
      "     Click here for more examples\n",
      "    </a>\n",
      "   </p>\n",
      "  </div>\n",
      "  <h2>\n",
      "   A Header\n",
      "  </h2>\n",
      "  <p>\n",
      "   <i>\n",
      "    Some Italicised text\n",
      "   </i>\n",
      "  </p>\n",
      "  <h2>\n",
      "   This is so fun\n",
      "  </h2>\n",
      "  <p id=\"2\">\n",
      "   paragraph with an id\n",
      "  </p>\n",
      "  <p id=\"para\">\n",
      "   another paragraph with an id\n",
      "  </p>\n",
      " </body>\n",
      "</html>\n",
      "\n"
     ]
    }
   ],
   "execution_count": 45
  },
  {
   "metadata": {
    "ExecuteTime": {
     "end_time": "2025-06-22T20:43:52.172399Z",
     "start_time": "2025-06-22T20:43:52.168241Z"
    }
   },
   "cell_type": "code",
   "source": [
    "string_search = soup.find_all(\"p\", string=re.compile('paragraph'))\n",
    "string_search"
   ],
   "id": "f8d6df6aadaf46fc",
   "outputs": [
    {
     "data": {
      "text/plain": [
       "[<p id=\"2\">\n",
       "     paragraph with an id\n",
       " </p>,\n",
       " <p id=\"para\">\n",
       "     another paragraph with an id\n",
       " </p>]"
      ]
     },
     "execution_count": 47,
     "metadata": {},
     "output_type": "execute_result"
    }
   ],
   "execution_count": 47
  },
  {
   "metadata": {
    "ExecuteTime": {
     "end_time": "2025-06-22T20:43:41.853951Z",
     "start_time": "2025-06-22T20:43:41.851952Z"
    }
   },
   "cell_type": "code",
   "source": "",
   "id": "67d2fab180653b01",
   "outputs": [],
   "execution_count": 46
  }
 ],
 "metadata": {
  "kernelspec": {
   "display_name": "Python 3",
   "language": "python",
   "name": "python3"
  },
  "language_info": {
   "codemirror_mode": {
    "name": "ipython",
    "version": 2
   },
   "file_extension": ".py",
   "mimetype": "text/x-python",
   "name": "python",
   "nbconvert_exporter": "python",
   "pygments_lexer": "ipython2",
   "version": "2.7.6"
  }
 },
 "nbformat": 4,
 "nbformat_minor": 5
}
