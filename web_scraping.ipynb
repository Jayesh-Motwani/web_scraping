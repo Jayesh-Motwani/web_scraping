{
 "cells": [
  {
   "cell_type": "code",
   "id": "initial_id",
   "metadata": {
    "collapsed": true,
    "ExecuteTime": {
     "end_time": "2025-06-22T20:28:25.569571Z",
     "start_time": "2025-06-22T20:28:25.564083Z"
    }
   },
   "source": [
    "import requests\n",
    "from bs4 import BeautifulSoup as bs"
   ],
   "outputs": [],
   "execution_count": 16
  },
  {
   "metadata": {
    "ExecuteTime": {
     "end_time": "2025-06-22T20:28:26.497854Z",
     "start_time": "2025-06-22T20:28:25.572582Z"
    }
   },
   "cell_type": "code",
   "source": [
    "# loading webpage content\n",
    "response = requests.get(\"https://jayesh-motwani.github.io/web_scraping/\")\n",
    "\n",
    "# convert a beautifulsoup object\n",
    "soup = bs(response.content)\n",
    "\n",
    "# print our html\n",
    "print(soup.prettify())"
   ],
   "id": "d54668614fd3257c",
   "outputs": [
    {
     "name": "stdout",
     "output_type": "stream",
     "text": [
      "<!DOCTYPE html>\n",
      "<html lang=\"en\">\n",
      " <head>\n",
      "  <title>\n",
      "   Jayesh Webpage\n",
      "  </title>\n",
      " </head>\n",
      " <body>\n",
      "  <div align=\"middle\">\n",
      "   <h1>\n",
      "    HTML Webpage\n",
      "   </h1>\n",
      "   <p>\n",
      "    Link to more examples:\n",
      "    <a href=\"https://www.york.ac.uk/teaching/cws/wws/webpage1.html\">\n",
      "     Click here for more examples\n",
      "    </a>\n",
      "   </p>\n",
      "  </div>\n",
      "  <h2>\n",
      "   A Header\n",
      "  </h2>\n",
      "  <p>\n",
      "   <i>\n",
      "    Some Italicised text\n",
      "   </i>\n",
      "  </p>\n",
      " </body>\n",
      "</html>\n",
      "\n"
     ]
    }
   ],
   "execution_count": 17
  },
  {
   "metadata": {
    "ExecuteTime": {
     "end_time": "2025-06-22T20:28:26.505374Z",
     "start_time": "2025-06-22T20:28:26.498862Z"
    }
   },
   "cell_type": "code",
   "source": "soup.find('h2')",
   "id": "c4c59b46047a9e14",
   "outputs": [
    {
     "data": {
      "text/plain": [
       "<h2>\n",
       "    A Header\n",
       "</h2>"
      ]
     },
     "execution_count": 18,
     "metadata": {},
     "output_type": "execute_result"
    }
   ],
   "execution_count": 18
  },
  {
   "metadata": {
    "ExecuteTime": {
     "end_time": "2025-06-22T20:28:26.520251Z",
     "start_time": "2025-06-22T20:28:26.506904Z"
    }
   },
   "cell_type": "code",
   "source": "soup.find_all([\"h1\",\"h2\"])",
   "id": "b9e7ef2e1d12a7fc",
   "outputs": [
    {
     "data": {
      "text/plain": [
       "[<h1>HTML Webpage</h1>,\n",
       " <h2>\n",
       "     A Header\n",
       " </h2>]"
      ]
     },
     "execution_count": 19,
     "metadata": {},
     "output_type": "execute_result"
    }
   ],
   "execution_count": 19
  },
  {
   "metadata": {
    "ExecuteTime": {
     "end_time": "2025-06-22T20:28:26.527267Z",
     "start_time": "2025-06-22T20:28:26.522262Z"
    }
   },
   "cell_type": "code",
   "source": "",
   "id": "8db908623e3a6622",
   "outputs": [],
   "execution_count": 19
  }
 ],
 "metadata": {
  "kernelspec": {
   "display_name": "Python 3",
   "language": "python",
   "name": "python3"
  },
  "language_info": {
   "codemirror_mode": {
    "name": "ipython",
    "version": 2
   },
   "file_extension": ".py",
   "mimetype": "text/x-python",
   "name": "python",
   "nbconvert_exporter": "python",
   "pygments_lexer": "ipython2",
   "version": "2.7.6"
  }
 },
 "nbformat": 4,
 "nbformat_minor": 5
}
